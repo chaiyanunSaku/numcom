{
  "cells": [
    {
      "cell_type": "code",
      "execution_count": null,
      "metadata": {
        "collapsed": true,
        "id": "Pbc9d050PRVq"
      },
      "outputs": [],
      "source": [
        "%matplotlib inline\n",
        "import math\n",
        "import numpy as np\n",
        "from matplotlib import pyplot as plt"
      ]
    },
    {
      "cell_type": "markdown",
      "metadata": {
        "id": "S7sGaHxLPRVr"
      },
      "source": [
        "# Homework"
      ]
    },
    {
      "cell_type": "markdown",
      "metadata": {
        "id": "beH6EgMYPRVs"
      },
      "source": [
        "---\n",
        "\n",
        "## Problem 1\n",
        "\n",
        "Find the solution to $x = e^{-x}$ accurate to $10^{-6}$ using the bisection method.\n",
        "\n",
        "Choose an initial bound from the options below and explain why the other is not suitable:\n",
        "- Bound A: $(-1, 0)$\n",
        "- Bound B: $(0, 1)$"
      ]
    },
    {
      "cell_type": "code",
      "execution_count": null,
      "metadata": {
        "colab": {
          "base_uri": "https://localhost:8080/"
        },
        "id": "gJ1b-rLwPRVs",
        "outputId": "3b34b6a3-55ad-4892-ec04-838d775653dd"
      },
      "outputs": [
        {
          "output_type": "stream",
          "name": "stdout",
          "text": [
            "2.718281828459045\n",
            "Bound A: -1 = -3.718281828459045. 0 = -1.0. Product: 3.718281828459045\n",
            "Bound B: 0 = -1.0. 1 = 0.6321205588285577. Product: -0.6321205588285577\n"
          ]
        }
      ],
      "source": [
        "\"\"\"\n",
        "Bound A is not suitable because f(a) * f(b) > 0.\n",
        "For bisection method, the bound that will satisfy is when f(a) * f(b) < 0.\n",
        "\"\"\"\n",
        "\n",
        "import math\n",
        "\n",
        "# f(x)= x−e^(−x)\n",
        "\n",
        "e_value = math.e\n",
        "print(e_value)\n",
        "\n",
        "x = -1\n",
        "BoundA1 = x-e_value**(-x)\n",
        "x = 0\n",
        "BoundA2 = x-e_value**(-x)\n",
        "\n",
        "print(f\"Bound A: -1 = {BoundA1}. 0 = {BoundA2}. Product: {BoundA1*BoundA2}\")\n",
        "\n",
        "x = 0\n",
        "BoundB1 = x-e_value**(-x)\n",
        "x = 1\n",
        "BoundB2 = x-e_value**(-x)\n",
        "\n",
        "print(f\"Bound B: 0 = {BoundB1}. 1 = {BoundB2}. Product: {BoundB1*BoundB2}\")\n"
      ]
    },
    {
      "cell_type": "markdown",
      "metadata": {
        "id": "K-hkWPdFPRVs"
      },
      "source": [
        "---\n",
        "## Problem 2\n",
        "\n",
        "Find all values of $x$ in $[0, 1]$ such that $f(x) = 0$, where\n",
        "\n",
        "$$\n",
        "f(x) = -0.000216747 + 0.0072868x - 0.0977383x^2 + 0.664685x^3 - 2.40773x^4 + 4.46766x^5 - 3.7091x^6 + x^7\n",
        "$$\n",
        "\n",
        "Your answers should be accurate to within $10^{-6}$ of the true solution."
      ]
    },
    {
      "cell_type": "code",
      "execution_count": null,
      "metadata": {
        "colab": {
          "base_uri": "https://localhost:8080/"
        },
        "id": "ZKfiqddyPRVt",
        "outputId": "161bdbf1-00c5-4f49-86b4-0c89a1fac3c9"
      },
      "outputs": [
        {
          "output_type": "stream",
          "name": "stdout",
          "text": [
            "Brackets found: [(0.122, 0.1225), (0.22, 0.2205), (0.333, 0.3335), (0.785, 0.7855)]\n",
            "Roots (approx):\n",
            "0.122171875  f(r)= 7.022006547520076e-13\n",
            "0.220027832  f(r)= 4.621432085960878e-11\n",
            "0.33329834  f(r)= -3.6181639954079026e-10\n",
            "0.785408691  f(r)= 3.3468344290410457e-08\n"
          ]
        }
      ],
      "source": [
        "import numpy as np\n",
        "import matplotlib.pyplot as plt\n",
        "\n",
        "def f(x):\n",
        "    return -0.000216747 + 0.0072868*x - 0.0977383*x**2 + 0.664685*x**3 - \\\n",
        "           2.40773*x**4 + 4.46766*x**5 - 3.7091*x**6 + x**7\n",
        "\n",
        "\n",
        "# find sign-change intervals by sampling\n",
        "def find_brackets(f, a=0.0, b=1.0, n_samples=2000):\n",
        "    xs = [a + i*(b-a)/n_samples for i in range(n_samples+1)]\n",
        "    brackets = []\n",
        "    fa_prev = f(xs[0])\n",
        "    x_prev = xs[0]\n",
        "    for x in xs[1:]:\n",
        "        fx = f(x)\n",
        "        if fa_prev == 0.0:\n",
        "            brackets.append((x_prev, x_prev))\n",
        "        elif fa_prev * fx < 0:\n",
        "            brackets.append((x_prev, x))\n",
        "        fa_prev = fx\n",
        "        x_prev = x\n",
        "    return brackets\n",
        "\n",
        "def bisection(f, a, b, tol=1e-6, max_iter=100):\n",
        "    fa = f(a)\n",
        "    fb = f(b)\n",
        "    if fa == 0.0:\n",
        "        return a\n",
        "    if fb == 0.0:\n",
        "        return b\n",
        "    if fa * fb > 0:\n",
        "        raise ValueError(\"No sign change in [a,b].\")\n",
        "    for _ in range(max_iter):\n",
        "        m = 0.5*(a + b)\n",
        "        fm = f(m)\n",
        "        if abs(b - a) < tol or abs(fm) < 1e-12:\n",
        "            return m\n",
        "        if fa * fm < 0:\n",
        "            b = m\n",
        "            fb = fm\n",
        "        else:\n",
        "            a = m\n",
        "            fa = fm\n",
        "    return 0.5*(a + b)\n",
        "\n",
        "#run\n",
        "brackets = find_brackets(f, 0.0, 1.0, n_samples=2000)\n",
        "roots = []\n",
        "for a,b in brackets:\n",
        "    if a == b:\n",
        "        roots.append(a)\n",
        "    else:\n",
        "        root = bisection(f, a, b, tol=1e-6, max_iter=1000)\n",
        "        roots.append(root)\n",
        "\n",
        "roots = sorted(set([round(r, 9) for r in roots]))\n",
        "print(\"Brackets found:\", brackets)\n",
        "print(\"Roots (approx):\")\n",
        "for r in roots:\n",
        "    print(r, \" f(r)=\", f(r))\n"
      ]
    },
    {
      "cell_type": "markdown",
      "metadata": {
        "id": "_ltKC2iMPRVt"
      },
      "source": [
        "2.1) Find all local minima and maxima of the function $f(x)$ defined above. Briefly explain how you determine whether a point is a local maximum or minimum."
      ]
    },
    {
      "cell_type": "code",
      "execution_count": null,
      "metadata": {
        "colab": {
          "base_uri": "https://localhost:8080/"
        },
        "outputId": "484983c7-6e71-420c-d8c2-678ccdaf654b",
        "id": "9Qtjfb21qehK"
      },
      "outputs": [
        {
          "output_type": "stream",
          "name": "stdout",
          "text": [
            "Brackets for f'(x): [(0.191, 0.1915), (0.297, 0.2975), (0.6815, 0.682)]\n",
            "Critical points (f'(x)=0): [0.19136767578125002, 0.29709130859375, 0.68178076171875]\n",
            "-0.002629396874175247\n",
            "0.012574738523519285\n",
            "-0.4447283880044166\n"
          ]
        }
      ],
      "source": [
        "def f_prime(x):\n",
        "    return 0.0072868 - 0.1954766*x + 1.994055*x**2 - 9.63092*x**3 + \\\n",
        "           22.3383*x**4 - 22.2546*x**5 + 7*x**6\n",
        "\n",
        "def fsecond(x):\n",
        "    return -0.1954766 + 3.98811*x - 28.89276*x**2 + 89.3532*x**3 - \\\n",
        "           111.273*x**4 + 42.0*x**5\n",
        "\n",
        "def find_brackets(f, a=0.0, b=1.0, n_samples=2000):\n",
        "    xs = [a + i*(b-a)/n_samples for i in range(n_samples+1)]\n",
        "    brackets = []\n",
        "    fa_prev = f(xs[0])\n",
        "    x_prev = xs[0]\n",
        "    for x in xs[1:]:\n",
        "        fx = f(x)\n",
        "        if fa_prev == 0.0:\n",
        "            brackets.append((x_prev, x_prev))\n",
        "        elif fa_prev * fx < 0:\n",
        "            brackets.append((x_prev, x))\n",
        "        fa_prev = fx\n",
        "        x_prev = x\n",
        "    return brackets\n",
        "\n",
        "def bisection(f, a, b, tol=1e-6, max_iter=100):\n",
        "    fa = f(a)\n",
        "    fb = f(b)\n",
        "    if fa * fb > 0:\n",
        "        raise ValueError(\"No sign change in [a,b].\")\n",
        "    for _ in range(max_iter):\n",
        "        m = 0.5*(a+b)\n",
        "        fm = f(m)\n",
        "        if abs(b-a) < tol or abs(fm) < 1e-12:\n",
        "            return m\n",
        "        if fa * fm < 0:\n",
        "            b, fb = m, fm\n",
        "        else:\n",
        "            a, fa = m, fm\n",
        "    return 0.5*(a+b)\n",
        "\n",
        "#find brackets\n",
        "brackets_prime = find_brackets(f_prime, 0.0, 1.0, n_samples=2000)\n",
        "\n",
        "# bisection\n",
        "critical_points = []\n",
        "for a,b in brackets_prime:\n",
        "    c = bisection(f_prime, a, b, tol=1e-6)\n",
        "    critical_points.append(c)\n",
        "\n",
        "print(\"Brackets for f'(x):\", brackets_prime)\n",
        "print(\"Critical points (f'(x)=0):\", critical_points)\n",
        "\n",
        "print(fsecond(0.191368))\n",
        "print(fsecond(0.297091))\n",
        "print(fsecond(0.681781))\n",
        "\n",
        "\"\"\"\n",
        "To find local maxima and minima we must first compute f'(x)\n",
        "and solve f'(x) = 0 to locate the critical points\n",
        "\n",
        "Then use the second derivative test.\n",
        "If f''(c) > 0 the point will be a local minimum (concave up)\n",
        "But if f''(c) < 0 the point will be local maximum (concave down)\n",
        "\"\"\""
      ]
    },
    {
      "cell_type": "markdown",
      "metadata": {
        "id": "2m_Ongr0PRVu"
      },
      "source": [
        "2.2) Identify the global maximum and global minimum of the function $f(x)$ within the interval $x \\in [0, 1]$."
      ]
    },
    {
      "cell_type": "code",
      "execution_count": null,
      "metadata": {
        "collapsed": true,
        "id": "1alhLp_dPRVu",
        "colab": {
          "base_uri": "https://localhost:8080/"
        },
        "outputId": "ea2e044e-6141-44c2-c97f-443fbb52b095"
      },
      "outputs": [
        {
          "output_type": "stream",
          "name": "stdout",
          "text": [
            "x\t\tf(x)\n",
            "0.681780761719\t3.825808321962e-03\n",
            "0.191367675781\t1.369076196957e-06\n",
            "0.297091308594\t-1.214713659840e-05\n",
            "0.000000000000\t-2.167470000000e-04\n",
            "1.000000000000\t-7.515324700000e-02\n",
            "\n",
            "Global maximum on [0,1]: x = 0.681780762  f(x) = 0.0038258083219623595\n",
            "Global minimum on [0,1]: x = 1.0  f(x) = -0.07515324699999937\n"
          ]
        }
      ],
      "source": [
        "def f(x):\n",
        "    return -0.000216747 + 0.0072868*x - 0.0977383*x**2 + 0.664685*x**3 - \\\n",
        "           2.40773*x**4 + 4.46766*x**5 - 3.7091*x**6 + x**7\n",
        "\n",
        "# Critical points found from f'(x)=0 (from 2.1)\n",
        "critical_points = [0.19136767578125002, 0.29709130859375, 0.68178076171875]\n",
        "\n",
        "# endpoints\n",
        "points = [0.0, 1.0] + critical_points\n",
        "\n",
        "# Evaluate f(x) at each\n",
        "results = [(x, f(x)) for x in points]\n",
        "\n",
        "# Sort by value to see max/min clearly\n",
        "results_sorted = sorted(results, key=lambda t: t[1], reverse=True)\n",
        "\n",
        "print(\"x\\t\\tf(x)\")\n",
        "for x, fx in results_sorted:\n",
        "    print(f\"{x:.12f}\\t{fx:.12e}\")\n",
        "\n",
        "max_x, max_fx = results_sorted[0]\n",
        "min_x, min_fx = results_sorted[-1]\n",
        "\n",
        "print(\"\\nGlobal maximum on [0,1]: x =\", round(max_x, 9), \" f(x) =\", max_fx)\n",
        "print(\"Global minimum on [0,1]: x =\", round(min_x, 9), \" f(x) =\", min_fx)\n"
      ]
    },
    {
      "cell_type": "markdown",
      "metadata": {
        "id": "dfCPdsOaPRVu"
      },
      "source": [
        "---\n",
        "## Problem 3: Bound States in a Finite Potential Well\n",
        "In quantum physics, the bound state energies for a finite potential well are found by solving the following equation (where $E$ is negative):\n",
        "\n",
        "$$\n",
        "\\sqrt{\\frac{-E}{E+V_0}} = \\tan \\left( \\sqrt{2m \\frac{E+V_0}{\\hbar^2} a} \\right)\n",
        "$$\n",
        "\n",
        "Your task is to find all energy values $E$ that satisfy this equation.\n",
        "For this problem, use the following simplified parameters (natural units):\n",
        "- $V_0 = 1$\n",
        "- $m = 1$\n",
        "- $a = 1$\n",
        "- $\\hbar = 1$\n",
        "\n",
        "This reduces the equation to:\n",
        "\n",
        "$$\n",
        "\\sqrt{\\frac{-E}{E+1}} = \\tan \\left( \\sqrt{2(E+1)} \\right)\n",
        "$$\n",
        "\n",
        "Instructions:\n",
        "- Find all values of $E$ in the interval $(-1.0, 0)$ that satisfy the equation above.\n",
        "- Your answers should be accurate to within $\\pm 10^{-4}$.\n",
        "- Briefly describe your numerical approach (e.g., root-finding method) before providing any code.\n"
      ]
    },
    {
      "cell_type": "code",
      "execution_count": null,
      "metadata": {
        "id": "UbtrQIc6PRVv",
        "outputId": "428dc6f2-fdca-47c3-96d9-51454989e6d4"
      },
      "outputs": [
        {
          "data": {
            "image/png": "[encoded data removed]",
            "text/plain": [
              "<Figure size 800x500 with 1 Axes>"
            ]
          },
          "metadata": {},
          "output_type": "display_data"
        }
      ],
      "source": [
        "# Plot the functions for Problem 3\n",
        "def f(x):\n",
        "    return math.sqrt(-x/(x+1))\n",
        "def g(x):\n",
        "    return math.tan(math.sqrt(2*(x + 1)))\n",
        "\n",
        "xs = np.linspace(-0.999, -0.1, 400)\n",
        "fx = [f(x) for x in xs]\n",
        "gx = [g(x) for x in xs]\n",
        "\n",
        "plt.figure(figsize=(8, 5))\n",
        "plt.plot(xs, fx, label=r'$\\sqrt{\\frac{-E}{E+1}}$')\n",
        "plt.plot(xs, gx, label=r'$\\tan(\\sqrt{2(E+1)})$')\n",
        "plt.xlabel(r'$E$')\n",
        "plt.ylabel('Value')\n",
        "plt.title(r'Comparison of $\\sqrt{\\frac{-E}{E+1}}$ and $\\tan(\\sqrt{2(E+1)})$ for $E \\in (-1, 0)$')\n",
        "plt.legend()\n",
        "plt.grid(True)\n",
        "plt.tight_layout()\n",
        "plt.show()"
      ]
    },
    {
      "cell_type": "code",
      "execution_count": null,
      "metadata": {
        "id": "yDTKwUibPRVv",
        "colab": {
          "base_uri": "https://localhost:8080/"
        },
        "outputId": "7eec542f-ab56-4a76-958f-501b2f356092"
      },
      "outputs": [
        {
          "output_type": "stream",
          "name": "stdout",
          "text": [
            "Roots (full precision):\n",
            "-0.603897833836284  h(r)= 1.4686807325858808e-10\n",
            "\n",
            "Roots rounded to 1e-6:\n",
            "-0.603898\n",
            "\n",
            "Number of solutions in (-1,0): 1\n"
          ]
        }
      ],
      "source": [
        "\n",
        "def f_side(E):\n",
        "    return math.sqrt(-E/(E+1))\n",
        "\n",
        "def g_side(E):\n",
        "    return math.tan(math.sqrt(2*(E+1)))\n",
        "\n",
        "def h(E):\n",
        "    return g_side(E) - f_side(E)  # tan(...) - sqrt(...)\n",
        "\n",
        "# Sampling to find sign-change brackets\n",
        "xs = np.linspace(-0.999999, -1e-6, 2000)\n",
        "hs = []\n",
        "for x in xs:\n",
        "    try:\n",
        "        hs.append(h(x))\n",
        "    except Exception:\n",
        "        hs.append(float('nan'))\n",
        "\n",
        "brackets = []\n",
        "for i in range(len(xs)-1):\n",
        "    a, b = xs[i], xs[i+1]\n",
        "    ha, hb = hs[i], hs[i+1]\n",
        "    if math.isnan(ha) or math.isnan(hb):\n",
        "        continue\n",
        "    if ha == 0.0:\n",
        "        brackets.append((a,a))\n",
        "    elif ha*hb < 0:\n",
        "        brackets.append((a,b))\n",
        "\n",
        "# bisection\n",
        "def bisection(func, a, b, tol=1e-10, max_iter=200):\n",
        "    fa = func(a); fb = func(b)\n",
        "    if fa == 0.0:\n",
        "        return a\n",
        "    if fb == 0.0:\n",
        "        return b\n",
        "    if fa * fb > 0:\n",
        "        return None\n",
        "    for _ in range(max_iter):\n",
        "        m = 0.5*(a+b)\n",
        "        fm = func(m)\n",
        "        if abs(b-a) < tol or abs(fm) < 1e-12:\n",
        "            return m\n",
        "        if fa * fm < 0:\n",
        "            b, fb = m, fm\n",
        "        else:\n",
        "            a, fa = m, fm\n",
        "    return 0.5*(a+b)\n",
        "\n",
        "roots = []\n",
        "for a,b in brackets:\n",
        "    if a==b:\n",
        "        roots.append(a)\n",
        "    else:\n",
        "        root = bisection(h, a, b, tol=1e-10, max_iter=200)\n",
        "        if root is not None:\n",
        "            roots.append(root)\n",
        "\n",
        "roots_unique = []\n",
        "for r in roots:\n",
        "    if all(abs(r - ru) > 1e-8 for ru in roots_unique):\n",
        "        roots_unique.append(r)\n",
        "roots_unique = sorted(roots_unique)\n",
        "\n",
        "print(\"Roots (full precision):\")\n",
        "for r in roots_unique:\n",
        "    print(r, \" h(r)=\", h(r))\n",
        "\n",
        "print(\"\\nRoots rounded to 1e-6:\")\n",
        "for r in roots_unique:\n",
        "    print(\"{:.6f}\".format(r))\n",
        "\n",
        "print(\"\\nNumber of solutions in (-1,0):\", len(roots_unique))\n"
      ]
    },
    {
      "cell_type": "markdown",
      "metadata": {
        "id": "FZ4o6xiQPRVv"
      },
      "source": [
        "---\n",
        "\n",
        "## Problem 4\n",
        "Suppose Alex quit programming and decided to become an apple (fruit) shop owner. Alex buys 1000 apples every day and tries to sell them. The probability that $k$ customers want Alex's apples (one each) is given by the Poisson distribution:\n",
        "\n",
        "$$\n",
        "    P(k; \\lambda) = \\frac{\\lambda^k \\exp(-\\lambda)}{k!}\n",
        "$$\n",
        "\n",
        "Where $\\lambda$ is a parameter that represents the mean number of people who want Alex's apples each day.\n",
        "\n",
        "After selling apples for 2000 days, Alex found that all 1000 apples were sold out on 600 days out of 2000 days.\n",
        "\n",
        "The goal for this problem is to figure out how Alex should change the number of apples bought each day.\n",
        "\n",
        "- In case you are curious: https://en.wikipedia.org/wiki/Poisson_distribution. The true distribution of this selling apple process should be binomial distribution, but with a large enough number of customers and a low enough probability of an individual buying an apple, this is an excellent approximation."
      ]
    },
    {
      "cell_type": "markdown",
      "metadata": {
        "collapsed": true,
        "id": "t8qsmd_NPRVv"
      },
      "source": [
        "4.1) You may find that if you try to code the Poisson distribution directly, it will not work with large numbers.\n",
        "$$\n",
        "    P(k; \\lambda) = \\frac{\\lambda^k \\exp(-\\lambda)}{k!}\n",
        "$$\n",
        "\n",
        "Explain briefly why Python complains when Alex tries to compute this for large $k$ and $\\lambda$."
      ]
    },
    {
      "cell_type": "code",
      "execution_count": null,
      "metadata": {
        "collapsed": true,
        "id": "vxW4vs94PRVw",
        "colab": {
          "base_uri": "https://localhost:8080/",
          "height": 305
        },
        "outputId": "937c6c93-aa88-405f-87e6-51fc83e47749"
      },
      "outputs": [
        {
          "output_type": "error",
          "ename": "OverflowError",
          "evalue": "int too large to convert to float",
          "traceback": [
            "\u001b[0;31m---------------------------------------------------------------------------\u001b[0m",
            "\u001b[0;31mOverflowError\u001b[0m                             Traceback (most recent call last)",
            "\u001b[0;32m/tmp/ipython-input-2351533273.py\u001b[0m in \u001b[0;36m<cell line: 0>\u001b[0;34m()\u001b[0m\n\u001b[1;32m      4\u001b[0m         \u001b[0;32mreturn\u001b[0m \u001b[0mpow\u001b[0m\u001b[0;34m(\u001b[0m\u001b[0mlmd\u001b[0m\u001b[0;34m,\u001b[0m \u001b[0mk\u001b[0m\u001b[0;34m)\u001b[0m \u001b[0;34m*\u001b[0m \u001b[0mmath\u001b[0m\u001b[0;34m.\u001b[0m\u001b[0mexp\u001b[0m\u001b[0;34m(\u001b[0m\u001b[0;34m-\u001b[0m\u001b[0mlmd\u001b[0m\u001b[0;34m)\u001b[0m \u001b[0;34m/\u001b[0m \u001b[0mmath\u001b[0m\u001b[0;34m.\u001b[0m\u001b[0mfactorial\u001b[0m\u001b[0;34m(\u001b[0m\u001b[0mk\u001b[0m\u001b[0;34m)\u001b[0m\u001b[0;34m\u001b[0m\u001b[0;34m\u001b[0m\u001b[0m\n\u001b[1;32m      5\u001b[0m \u001b[0;34m\u001b[0m\u001b[0m\n\u001b[0;32m----> 6\u001b[0;31m \u001b[0mbad_poisson\u001b[0m\u001b[0;34m(\u001b[0m\u001b[0;36m1000\u001b[0m\u001b[0;34m,\u001b[0m \u001b[0;36m1000\u001b[0m\u001b[0;34m)\u001b[0m  \u001b[0;31m# Uncomment to see it breaks\u001b[0m\u001b[0;34m\u001b[0m\u001b[0;34m\u001b[0m\u001b[0m\n\u001b[0m",
            "\u001b[0;32m/tmp/ipython-input-2351533273.py\u001b[0m in \u001b[0;36mbad_poisson\u001b[0;34m(lmd, k)\u001b[0m\n\u001b[1;32m      2\u001b[0m \u001b[0;34m\u001b[0m\u001b[0m\n\u001b[1;32m      3\u001b[0m \u001b[0;32mdef\u001b[0m \u001b[0mbad_poisson\u001b[0m\u001b[0;34m(\u001b[0m\u001b[0mlmd\u001b[0m\u001b[0;34m,\u001b[0m \u001b[0mk\u001b[0m\u001b[0;34m)\u001b[0m\u001b[0;34m:\u001b[0m\u001b[0;34m\u001b[0m\u001b[0;34m\u001b[0m\u001b[0m\n\u001b[0;32m----> 4\u001b[0;31m         \u001b[0;32mreturn\u001b[0m \u001b[0mpow\u001b[0m\u001b[0;34m(\u001b[0m\u001b[0mlmd\u001b[0m\u001b[0;34m,\u001b[0m \u001b[0mk\u001b[0m\u001b[0;34m)\u001b[0m \u001b[0;34m*\u001b[0m \u001b[0mmath\u001b[0m\u001b[0;34m.\u001b[0m\u001b[0mexp\u001b[0m\u001b[0;34m(\u001b[0m\u001b[0;34m-\u001b[0m\u001b[0mlmd\u001b[0m\u001b[0;34m)\u001b[0m \u001b[0;34m/\u001b[0m \u001b[0mmath\u001b[0m\u001b[0;34m.\u001b[0m\u001b[0mfactorial\u001b[0m\u001b[0;34m(\u001b[0m\u001b[0mk\u001b[0m\u001b[0;34m)\u001b[0m\u001b[0;34m\u001b[0m\u001b[0;34m\u001b[0m\u001b[0m\n\u001b[0m\u001b[1;32m      5\u001b[0m \u001b[0;34m\u001b[0m\u001b[0m\n\u001b[1;32m      6\u001b[0m \u001b[0mbad_poisson\u001b[0m\u001b[0;34m(\u001b[0m\u001b[0;36m1000\u001b[0m\u001b[0;34m,\u001b[0m \u001b[0;36m1000\u001b[0m\u001b[0;34m)\u001b[0m  \u001b[0;31m# Uncomment to see it breaks\u001b[0m\u001b[0;34m\u001b[0m\u001b[0;34m\u001b[0m\u001b[0m\n",
            "\u001b[0;31mOverflowError\u001b[0m: int too large to convert to float"
          ]
        }
      ],
      "source": [
        "import math\n",
        "\n",
        "def bad_poisson(lmd, k):\n",
        "\treturn pow(lmd, k) * math.exp(-lmd) / math.factorial(k)\n",
        "\n",
        "bad_poisson(1000, 1000)  # Uncomment to see it breaks\n",
        "\n",
        "\"\"\"\n",
        "Even if it looks okay in paper but Python execute line by line cannnot handle\n",
        "too large numbers. 1000**1000 is too big and math.exp(-1000) is too small.\n",
        "\n",
        "Computers cannot handle very large or small numbers\n",
        "because of floating point limits.\n",
        "\"\"\""
      ]
    },
    {
      "cell_type": "markdown",
      "metadata": {
        "id": "k1_chhnzPRVw"
      },
      "source": [
        "4.2) A very useful trick to avoid this problem is to take the logarithm of the Poisson formula and then exponentiate. That is,\n",
        "\n",
        "$$\n",
        "    P(k; \\lambda) = \\exp\\left( \\ln \\left[ \\frac{\\lambda^k \\exp(-\\lambda)}{k!} \\right] \\right)\n",
        "$$\n",
        "\n",
        "First, show that\n",
        "$$\n",
        "    \\ln(P(k; \\lambda)) = (\\ldots \\ln(\\ldots)-\\ldots)-\\ln(k!)\n",
        "$$\n",
        "\n",
        "Write out the steps to derive this result from the original formula."
      ]
    },
    {
      "cell_type": "code",
      "execution_count": null,
      "metadata": {
        "collapsed": true,
        "id": "cPHsCc1UPRVw"
      },
      "outputs": [],
      "source": [
        "# steps of deriving below"
      ]
    },
    {
      "cell_type": "markdown",
      "source": [
        "Derivation\n",
        "\n",
        "Start with the Poisson formula\n",
        "\n",
        "$$\n",
        "P(k; \\lambda) = \\frac{\\lambda^k e^{-\\lambda}}{k!}\n",
        "$$\n",
        "\n",
        "Take the natural logarithm\n",
        "\n",
        "$$\n",
        "\\ln(P(k; \\lambda)) = \\ln\\left(\\frac{\\lambda^k e^{-\\lambda}}{k!}\\right)\n",
        "$$\n",
        "\n",
        "Use log rules for division and multiplication\n",
        "\n",
        "$$\n",
        "\\ln(P(k; \\lambda)) = \\ln(\\lambda^k e^{-\\lambda}) - \\ln(k!)\n",
        "$$\n",
        "\n",
        "$$\n",
        "\\ln(\\lambda^k e^{-\\lambda}) = \\ln(\\lambda^k) + \\ln(e^{-\\lambda})\n",
        "$$\n",
        "\n",
        "Simplify powers and exponentials\n",
        "\n",
        "$$\n",
        "\\ln(P(k; \\lambda)) = k \\ln(\\lambda) - \\lambda - \\ln(k!)\n",
        "$$\n",
        "\n"
      ],
      "metadata": {
        "id": "j62_jR7M3hHF"
      }
    },
    {
      "cell_type": "markdown",
      "metadata": {
        "id": "_-gVRaGXPRVw"
      },
      "source": [
        "4.3) The term $\\ln(k!)$ appears frequently in mathematics and statistics. Most math libraries provide a fast way to compute this using the `lgamma` function, which gives $\\ln((k-1)!)$.\n",
        "\n",
        "For example:\n",
        "\n",
        "`math.lgamma(5) == math.log(math.factorial(4))`\n",
        "\n",
        "Your task: Implement $P(k; \\lambda)$ using the log-exp trick described above, and use `math.lgamma` to handle the factorial term efficiently.\n",
        "\n",
        "If you do it correctly, you should find $P(k=1000; \\lambda=1000) \\approx 0.0126146$."
      ]
    },
    {
      "cell_type": "code",
      "execution_count": null,
      "metadata": {
        "collapsed": true,
        "id": "UJ3U9qMTPRVw",
        "colab": {
          "base_uri": "https://localhost:8080/"
        },
        "outputId": "376aea41-8ee7-4047-d224-88cbbd54e3a6"
      },
      "outputs": [
        {
          "output_type": "stream",
          "name": "stdout",
          "text": [
            "0.012614611348719664\n"
          ]
        }
      ],
      "source": [
        "def good_poisson(lmd, k):\n",
        "    log_p = k * math.log(lmd) - lmd - math.lgamma(k + 1)\n",
        "    return math.exp(log_p)\n",
        "\n",
        "ans = good_poisson(1000, 1000)\n",
        "print(ans)"
      ]
    },
    {
      "cell_type": "markdown",
      "metadata": {
        "id": "4lT6DFzIPRVx"
      },
      "source": [
        "4.4) Now for a practical challenge. Suppose $\\lambda = 987.6$ (note: this is just an example value). Find the probability that Alex will sell all 1000 apples in a day. (Remember, if 1000 or more people want Alex's apples, all apples will be sold out.)\n",
        "\n",
        "Hint: You do not need to sum the Poisson probabilities to infinity—find a practical way to compute this probability efficiently."
      ]
    },
    {
      "cell_type": "code",
      "execution_count": null,
      "metadata": {
        "id": "f-7dzCZ9PRVx",
        "colab": {
          "base_uri": "https://localhost:8080/"
        },
        "outputId": "876f4c11-ca61-43bd-89c8-9b0afb54325c"
      },
      "outputs": [
        {
          "output_type": "stream",
          "name": "stdout",
          "text": [
            "0.3507846581670554\n"
          ]
        }
      ],
      "source": [
        "def good_poisson(lmd, k):\n",
        "    log_p = k * math.log(lmd) - lmd - math.lgamma(k + 1)\n",
        "    return math.exp(log_p)\n",
        "\n",
        "\n",
        "lmd = 987.6\n",
        "max_k = 999\n",
        "\n",
        "# Compute cumulative probability P(X <= 999)\n",
        "cum_prob = sum(good_poisson(lmd, k) for k in range(max_k + 1))\n",
        "\n",
        "prob_sold_out = 1 - cum_prob\n",
        "print(prob_sold_out)"
      ]
    },
    {
      "cell_type": "markdown",
      "metadata": {
        "id": "IJtRKmU5PRVy"
      },
      "source": [
        "4.5) Recall the information:\n",
        "\n",
        "After selling apples for 2000 days, Alex found that all 1000 apples were sold out on 600 days out of 2000 days.\n",
        "\n",
        "Estimate the value of $\\lambda$ (the average number of customers per day) to a reasonable accuracy ($<\\pm 0.1$) that matches this observation."
      ]
    },
    {
      "cell_type": "code",
      "execution_count": null,
      "metadata": {
        "collapsed": true,
        "id": "V6VOKfYLPRVy",
        "colab": {
          "base_uri": "https://localhost:8080/"
        },
        "outputId": "15dae880-3e73-496c-ddff-f5b437899ef8"
      },
      "outputs": [
        {
          "output_type": "stream",
          "name": "stdout",
          "text": [
            "983.1784467578914\n"
          ]
        }
      ],
      "source": [
        "def sold_out_prob(lmd):\n",
        "    return 1 - sum(good_poisson(lmd, k) for k in range(1000))\n",
        "\n",
        "\n",
        "target = 0.3\n",
        "low, high = 950, 1050  # initial guess range\n",
        "for _ in range(100):\n",
        "    mid = (low + high) / 2\n",
        "    p = sold_out_prob(mid)\n",
        "    if p > target:\n",
        "        high = mid\n",
        "    else:\n",
        "        low = mid\n",
        "lambda_est = (low + high) / 2\n",
        "print(lambda_est)\n"
      ]
    },
    {
      "cell_type": "markdown",
      "metadata": {
        "id": "jmi5KRhbPRVy"
      },
      "source": [
        "4.6) Using the $\\lambda$ you found in 4.5:\n",
        "\n",
        "Alex buys apples for 20 Baht each and sells them for 50 Baht each. This means Alex makes a profit of 30 Baht for every apple sold. At the end of each day, any unsold apples are thrown away, resulting in a loss of 20 Baht per unsold apple.\n",
        "\n",
        "If Alex buys 1000 apples a day, what would be his expected profit? (Remember to use the concept of expected value from discrete math/statistics.)"
      ]
    },
    {
      "cell_type": "code",
      "execution_count": null,
      "metadata": {
        "collapsed": true,
        "id": "5djZbHHjPRVy",
        "colab": {
          "base_uri": "https://localhost:8080/"
        },
        "outputId": "5ff52b3a-89b7-4bb0-dffe-1a520735833e"
      },
      "outputs": [
        {
          "output_type": "stream",
          "name": "stdout",
          "text": [
            "29013.803931641574\n"
          ]
        }
      ],
      "source": [
        "lambda_est = 987.6  # from 4.5\n",
        "supply = 1000\n",
        "\n",
        "expected_profit = 0.0\n",
        "\n",
        "# k <= supply\n",
        "for k in range(supply):\n",
        "    profit = 50*k - 20000\n",
        "    expected_profit += good_poisson(lambda_est, k) * profit\n",
        "\n",
        "# k >= supply\n",
        "prob_at_least_supply = 1 - sum(good_poisson(lambda_est, k) for k in range(supply))\n",
        "expected_profit += prob_at_least_supply * 30000\n",
        "\n",
        "print(expected_profit)\n"
      ]
    },
    {
      "cell_type": "markdown",
      "metadata": {
        "id": "WP1BdOAWPRVy"
      },
      "source": [
        "4.7) Using the $\\lambda$ you found in 4.5, determine the optimal number of apples Alex should buy each day to maximize expected profit."
      ]
    },
    {
      "cell_type": "code",
      "execution_count": null,
      "metadata": {
        "collapsed": true,
        "id": "q8V3YU_aPRVy",
        "colab": {
          "base_uri": "https://localhost:8080/"
        },
        "outputId": "9cefacd6-736c-42b7-8616-c72e529fd332"
      },
      "outputs": [
        {
          "output_type": "stream",
          "name": "stdout",
          "text": [
            "Optimal apples to buy: 995, Expected profit: 29020.132086733713\n"
          ]
        }
      ],
      "source": [
        "lambda_est = 987.6\n",
        "max_search = 1050\n",
        "best_n = 0\n",
        "best_profit = -1\n",
        "\n",
        "for n in range(950, max_search):\n",
        "    expected_profit = 0.0\n",
        "\n",
        "    # k <= n\n",
        "    for k in range(n):\n",
        "        profit = 50*k - 20*n\n",
        "        expected_profit += good_poisson(lambda_est, k) * profit\n",
        "\n",
        "    # k >= n\n",
        "    prob_at_least_n = 1 - sum(good_poisson(lambda_est, k) for k in range(n))\n",
        "    expected_profit += prob_at_least_n * 30*n\n",
        "\n",
        "    if expected_profit > best_profit:\n",
        "        best_profit = expected_profit\n",
        "        best_n = n\n",
        "\n",
        "print(f\"Optimal apples to buy: {best_n}, Expected profit: {best_profit}\")\n"
      ]
    },
    {
      "cell_type": "markdown",
      "metadata": {
        "id": "EXFLJ-_aPRVy"
      },
      "source": [
        "---\n",
        "\n",
        "## Problem 5\n",
        "\n",
        "Full Width at Half Maximum (FWHM) is an important measure of distribution width. It tells you how wide a distribution is at half of its maximum value. FWHM is commonly used in physics, statistics, and signal processing to characterize the spread of a peak or distribution.\n",
        "\n",
        "For example, consider the distribution shown below, where the maximum occurs at $x = 0.0$ and $y = 1.0$.\n",
        "\n",
        "The maximum value of this distribution is 1.0, so we are interested in the width of the distribution where its value is $1.0/2 = 0.5$.\n",
        "\n",
        "The FWHM is illustrated by the black line in the plot. In this case, it's about 2.35 units wide.\n",
        "\n",
        "Your tasks in this problem will involve calculating and analyzing the FWHM for different functions and parameters."
      ]
    },
    {
      "cell_type": "code",
      "execution_count": null,
      "metadata": {
        "id": "tZcwXLQZPRVy",
        "outputId": "d0ef81d7-5c6b-429b-c4b3-e367579bbda7"
      },
      "outputs": [
        {
          "data": {
            "text/plain": [
              "Text(0, 0.3, 'FWHM')"
            ]
          },
          "execution_count": 15,
          "metadata": {},
          "output_type": "execute_result"
        },
        {
          "data": {
            "image/png": "[encoded data removed]",
            "text/plain": [
              "<Figure size 640x480 with 1 Axes>"
            ]
          },
          "metadata": {},
          "output_type": "display_data"
        }
      ],
      "source": [
        "import math\n",
        "\n",
        "def demo(x):\n",
        "\treturn math.exp(-x**2 / 2.0)\n",
        "\n",
        "# Generate data\n",
        "x = np.linspace(-3, 3)\n",
        "y = [demo(xx) for xx in x]\n",
        "\n",
        "# Plot the distribution\n",
        "plt.plot(x, y)\n",
        "plt.axhline(0.5, color='red')\n",
        "plt.axvline(2.355 / 2, color='red', linestyle='dashed')\n",
        "plt.axvline(-2.355 / 2, color='red', linestyle='dashed')\n",
        "plt.grid()\n",
        "plt.annotate('', xy=(-2.355 / 2, 0.4), xycoords='data', xytext=(2.355 / 2, 0.4), textcoords='data', arrowprops={'arrowstyle': '<->'})\n",
        "plt.text(0, 0.3, 'FWHM', horizontalalignment='center')"
      ]
    },
    {
      "cell_type": "markdown",
      "metadata": {
        "id": "tBJgz8zQPRVz"
      },
      "source": [
        "5.1) Find the FWHM (full width at half maximum) of the following function:\n",
        "\n",
        "$$\n",
        "    f(x, \\gamma) = \\frac{\\gamma}{(x - \\mu)^2 + \\gamma^2}\n",
        "$$\n",
        "where $\\mu = 2.345$ and $\\gamma = 3.1$.\n",
        "\n",
        "Make sure your answer for the FWHM has an error less than $10^{-4}$."
      ]
    },
    {
      "cell_type": "code",
      "execution_count": null,
      "metadata": {
        "id": "rGF8UMsAPRVz",
        "outputId": "26a6b99f-6f83-453d-e0fe-833849c5d356",
        "colab": {
          "base_uri": "https://localhost:8080/",
          "height": 472
        }
      },
      "outputs": [
        {
          "output_type": "display_data",
          "data": {
            "text/plain": [
              "<Figure size 640x480 with 1 Axes>"
            ],
            "image/png": "[encoded data removed]"
          },
          "metadata": {}
        }
      ],
      "source": [
        "import math\n",
        "\n",
        "def f(x, gamma=3.1):\n",
        "\tmu = 2.345\n",
        "\treturn gamma / ((x - mu) ** 2 + gamma ** 2)\n",
        "\n",
        "x = np.linspace(-10, 10, 200)\n",
        "y = [f(xx) for xx in x]\n",
        "\n",
        "plt.plot(x, y)\n",
        "plt.xlabel('x')\n",
        "plt.ylabel('f(x)')\n",
        "plt.title('Plot of f(x, gamma=3.1)')\n",
        "plt.grid(True)\n",
        "\n",
        "\n",
        "gamma = 3.1\n",
        "mu = 2.345\n",
        "x = np.linspace(-10, 10, 500)\n",
        "y = f(x, gamma)\n",
        "\n",
        "plt.plot(x, y)\n",
        "plt.axhline(1/(2*gamma), color='red', linestyle='--')  # Half max\n",
        "plt.axvline(mu - gamma, color='green', linestyle='--')  # Left FWHM\n",
        "plt.axvline(mu + gamma, color='green', linestyle='--')  # Right FWHM\n",
        "plt.grid(True)\n",
        "plt.show()\n",
        "\n",
        "# FWHM  = 2*3.1 = 6.2"
      ]
    },
    {
      "cell_type": "markdown",
      "metadata": {
        "id": "9Z8QzApbPRVz"
      },
      "source": [
        "5.2) Plot the FWHM (y-axis) as a function of $\\gamma$ for the function $f(x, \\gamma)$, where $\\gamma$ ranges from $0.5$ to $3.0$. Make sure your plot includes at least 30 points for $\\gamma$ values."
      ]
    },
    {
      "cell_type": "code",
      "execution_count": null,
      "metadata": {
        "id": "t6PIaI5ZPRVz",
        "colab": {
          "base_uri": "https://localhost:8080/",
          "height": 490
        },
        "outputId": "fb8817ee-12f2-4460-8f64-e68a5ca53f2c"
      },
      "outputs": [
        {
          "output_type": "stream",
          "name": "stdout",
          "text": [
            "0.1081651140465921\n"
          ]
        },
        {
          "output_type": "display_data",
          "data": {
            "text/plain": [
              "<Figure size 640x480 with 1 Axes>"
            ],
            "image/png": "[encoded data removed]"
          },
          "metadata": {}
        }
      ],
      "source": [
        "print(f(1.0, gamma=0.2)) # you may find this useful\n",
        "\n",
        "def fwhm(gamma):\n",
        "    return 2 * gamma  # from derivation in 5.1\n",
        "\n",
        "# Generate gamma values (30 points from 0.5 to 3.0)\n",
        "gamma_values = np.linspace(0.5, 3.0, 30)\n",
        "fwhm_values = [fwhm(g) for g in gamma_values]\n",
        "\n",
        "plt.plot(gamma_values, fwhm_values, marker='o')\n",
        "plt.xlabel('gamma')\n",
        "plt.ylabel('FWHM')\n",
        "plt.title('FWHM as a function of gamma')\n",
        "plt.grid(True)\n",
        "plt.show()"
      ]
    },
    {
      "cell_type": "markdown",
      "metadata": {
        "collapsed": true,
        "id": "5m_Cq6GhPRVz"
      },
      "source": [
        "5.3) (Optional) Prove the mathematical relationship between FWHM and $\\gamma$ for the function $f(x, \\gamma)$. Show your derivation and explain why the FWHM depends on $\\gamma$ in the way observed in your plot from 5.2."
      ]
    },
    {
      "cell_type": "code",
      "execution_count": null,
      "metadata": {
        "collapsed": true,
        "id": "nKPxf1-RPRV0"
      },
      "outputs": [],
      "source": []
    }
  ],
  "metadata": {
    "kernelspec": {
      "display_name": "iccs-205-numerical-computation-hw-N4xcADG0-py3.12",
      "language": "python",
      "name": "python3"
    },
    "language_info": {
      "codemirror_mode": {
        "name": "ipython",
        "version": 3
      },
      "file_extension": ".py",
      "mimetype": "text/x-python",
      "name": "python",
      "nbconvert_exporter": "python",
      "pygments_lexer": "ipython3",
      "version": "3.12.11"
    },
    "toc": {
      "colors": {
        "hover_highlight": "#DAA520",
        "running_highlight": "#FF0000",
        "selected_highlight": "#FFD700"
      },
      "moveMenuLeft": true,
      "nav_menu": {
        "height": "30px",
        "width": "252px"
      },
      "navigate_menu": true,
      "number_sections": false,
      "sideBar": true,
      "threshold": 4,
      "toc_cell": false,
      "toc_section_display": "block",
      "toc_window_display": false
    },
    "colab": {
      "provenance": []
    }
  },
  "nbformat": 4,
  "nbformat_minor": 0
}